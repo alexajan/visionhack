{
 "cells": [
  {
   "cell_type": "code",
   "execution_count": 1,
   "metadata": {
    "collapsed": true
   },
   "outputs": [],
   "source": [
    "import cv2\n",
    "from utils import *"
   ]
  },
  {
   "cell_type": "code",
   "execution_count": 3,
   "metadata": {
    "collapsed": true
   },
   "outputs": [],
   "source": [
    "path = '/Users/emmanuelazuh/Downloads/trainset/'\n",
    "zebs = ['akn.031.029.left.avi', 'akn.031.037.left.avi', 'akn.088.141.left.avi', \n",
    "        'akn.174.086.left.avi', 'akn.174.090.left.avi', 'akn.174.124.left.avi', \n",
    "        'akn.179.178.left.avi', 'akn.184.139.left.avi', 'akn.199.020.left.avi', \n",
    "        'akn.204.006.left.avi', 'akn.211.002.left.avi', 'akn.211.006.left.avi', \n",
    "        'akn.212.134.left.avi', 'akn.212.179.left.avi', 'akn.212.221.left.avi', \n",
    "        'akn.212.237.left.avi', 'akn.215.175.left.avi', 'akn.228.225.left.avi', \n",
    "        'akn.228.244.left.avi', 'akn.243.043.left.avi', 'akn.244.141.left.avi', \n",
    "        'akn.247.011.left.avi', 'akn.250.300.left.avi', 'akn.263.136.left.avi', \n",
    "        'akn.266.024.left.avi', 'akn.266.396.left.avi', 'akn.266.430.left.avi', \n",
    "        'akn.267.004.left.avi', 'akn.267.064.left.avi', 'akn.267.135.left.avi', \n",
    "        'akn.269.036.left.avi', 'akn.269.094.left.avi', 'akn.269.111.left.avi', \n",
    "        'akn.270.197.left.avi', 'akn.271.109.left.avi', 'akn.272.018.left.avi', \n",
    "        'akn.273.014.left.avi', 'akn.273.056.left.avi', 'akn.273.074.left.avi', \n",
    "        'akn.275.015.left.avi', 'akn.275.115.left.avi', 'akn.279.026.left.avi', \n",
    "        'akn.280.006.left.avi', 'akn.281.131.left.avi', 'akn.282.083.left.avi', \n",
    "        'akn.283.065.left.avi', 'akn.283.175.left.avi', 'akn.289.008.left.avi', \n",
    "        'akn.289.069.left.avi', 'akn.292.154.left.avi', 'akn.294.156.left.avi', \n",
    "        'akn.295.027.left.avi', 'akn.393.054.left.avi']"
   ]
  },
  {
   "cell_type": "code",
   "execution_count": 4,
   "metadata": {
    "collapsed": true
   },
   "outputs": [],
   "source": [
    "def select_white_yellow(image):\n",
    "    converted = cv2.cvtColor(image, cv2.COLOR_RGB2HLS)\n",
    "    # white color mask\n",
    "    lower = np.uint8([  0, 200,   0])\n",
    "    upper = np.uint8([255, 255, 255])\n",
    "    white_mask = cv2.inRange(converted, lower, upper)\n",
    "    # yellow color mask\n",
    "    lower = np.uint8([ 10,   0, 100])\n",
    "    upper = np.uint8([ 40, 255, 255])\n",
    "    yellow_mask = cv2.inRange(converted, lower, upper)\n",
    "    # combine the mask\n",
    "    mask = cv2.bitwise_or(white_mask, yellow_mask)\n",
    "    return cv2.bitwise_and(image, image, mask = mask)\n",
    "\n",
    "def select_rgb_white_yellow(image): \n",
    "    # white color mask\n",
    "    lower = np.uint8([200, 200, 200])\n",
    "    upper = np.uint8([255, 255, 255])\n",
    "    white_mask = cv2.inRange(image, lower, upper)\n",
    "    # yellow color mask\n",
    "    lower = np.uint8([190, 190,   0])\n",
    "    upper = np.uint8([255, 255, 255])\n",
    "    yellow_mask = cv2.inRange(image, lower, upper)\n",
    "    # combine the mask\n",
    "    mask = cv2.bitwise_or(white_mask, yellow_mask)\n",
    "    masked = cv2.bitwise_and(image, image, mask = mask)\n",
    "    return masked\n",
    "\n",
    "def convert_gray_scale(image):\n",
    "    return cv2.cvtColor(image, cv2.COLOR_RGB2GRAY)"
   ]
  },
  {
   "cell_type": "code",
   "execution_count": 18,
   "metadata": {
    "collapsed": false
   },
   "outputs": [],
   "source": [
    "\"\"\"Zebra!!!\"\"\"\n",
    "ctr = 0\n",
    "vid_idx = 0\n",
    "cap = cv2.VideoCapture(path + zebs[vid_idx])\n",
    "while(cap.isOpened()):\n",
    "    ret, frame = cap.read()\n",
    "\n",
    "    if (ret): # and (ctr % 2 == 0):\n",
    "        h,w,l = frame.shape\n",
    "        h,w = h/2, w/2\n",
    "        \n",
    "        # Use grayscale, blur and compute edges\n",
    "        gray_image = cv2.cvtColor(frame, cv2.COLOR_RGB2GRAY)\n",
    "        blurred_image = cv2.GaussianBlur(gray_image, (15, 15), 0)\n",
    "        \n",
    "#         dil_kernel = np.ones((5,5),np.uint8)\n",
    "#         erosion = cv2.erode(blurred_image,dil_kernel,iterations = 10)\n",
    "#         dilate = cv2.dilate(erosion,dil_kernel,iterations = 10)\n",
    "        \n",
    "        filtered_image = cv2.bilateralFilter(blurred_image, 11, 17, 17)\n",
    "        edge_image = cv2.Canny(blurred_image, 10, 30)\n",
    "        region_of_interest = select_region(edge_image)\n",
    "        \n",
    "        _, contours, _ = cv2.findContours(region_of_interest, cv2.RETR_TREE, cv2.CHAIN_APPROX_SIMPLE)\n",
    "        \n",
    "#         draw_cnts = np.array([])\n",
    "#         for cnt in contours:\n",
    "#             peri = cv2.arcLength(cnt, True)\n",
    "#             approx = cv2.approxPolyDP(cnt, 0.04 * peri, True)\n",
    "#             draw_cnts = np.append(draw_cnts, approx)\n",
    "#         perimeters = list(map(lambda cnt: cv2.arcLength(cnt,True), contours))\n",
    "        \n",
    "        possible_zebra = filter(lambda cnt: cv2.arcLength(cnt, False) > 80, contours)\n",
    "        im = cv2.drawContours(region_of_interest, pos, -1, (255, 255, 0), 5)\n",
    "        cv2.imshow('frame',cv2.resize(im, (w,h)))\n",
    "#         cv2.imshow('frame',cv2.resize(frame, (w,h)))\n",
    "        if cv2.waitKey(1) & 0xFF == ord('q'):\n",
    "            break\n",
    "    else:\n",
    "        break\n",
    "    ctr += 1\n",
    "            \n",
    "# cap.release()\n",
    "cv2.destroyAllWindows()"
   ]
  },
  {
   "cell_type": "code",
   "execution_count": null,
   "metadata": {
    "collapsed": true
   },
   "outputs": [],
   "source": [
    "\"\"\"\n",
    "Notes for zebra:\n",
    "\n",
    "\"\"\""
   ]
  },
  {
   "cell_type": "code",
   "execution_count": 17,
   "metadata": {
    "collapsed": true
   },
   "outputs": [],
   "source": [
    "def merge(filenames):\n",
    "    # bridge-0, city_entry-1, city_exit-2, bump-3, wipers-4, zebra-5\n",
    "    path = '/Users/emmanuelazuh/gitdir/visionhack/'\n",
    "    a = []\n",
    "    for _file in filenames:\n",
    "        print path + _file\n",
    "        files_and_tags = read_files_and_tags(path + _file)\n",
    "        a.append(list(map(lambda x: x[1], files_and_tags)))\n",
    "    files = list(map(lambda x: x[0] + ' ', files_and_tags))\n",
    "    \n",
    "    for i in range(len(a)):\n",
    "        for j in range(len(a[0])):\n",
    "            files[j] += a[i][j][i]\n",
    "    with open('final_submission.txt', 'w') as s:\n",
    "        s.write('\\n'.join(files))"
   ]
  },
  {
   "cell_type": "code",
   "execution_count": 3,
   "metadata": {
    "collapsed": true
   },
   "outputs": [],
   "source": [
    "files_and_tags = read_files_and_tags('bridge.txt')\n",
    "files = list(map(lambda x: x[0], files_and_tags))\n",
    "for i in files:\n",
    "    with open('generic.txt', 'a+') as out:\n",
    "            out.write(i + ' 000000\\n')\n",
    "    "
   ]
  },
  {
   "cell_type": "code",
   "execution_count": 19,
   "metadata": {
    "collapsed": false
   },
   "outputs": [
    {
     "name": "stdout",
     "output_type": "stream",
     "text": [
      "/Users/emmanuelazuh/gitdir/visionhack/bridge.txt\n",
      "/Users/emmanuelazuh/gitdir/visionhack/generic.txt\n",
      "/Users/emmanuelazuh/gitdir/visionhack/generic.txt\n",
      "/Users/emmanuelazuh/gitdir/visionhack/generic.txt\n",
      "/Users/emmanuelazuh/gitdir/visionhack/generic.txt\n",
      "/Users/emmanuelazuh/gitdir/visionhack/zebras.txt\n"
     ]
    }
   ],
   "source": [
    "list_files = ['bridge.txt', 'generic.txt', 'generic.txt', \n",
    "              'generic.txt', 'generic.txt', 'zebras.txt']\n",
    "merge(list_files)"
   ]
  },
  {
   "cell_type": "code",
   "execution_count": null,
   "metadata": {
    "collapsed": true
   },
   "outputs": [],
   "source": []
  }
 ],
 "metadata": {
  "kernelspec": {
   "display_name": "Python 2",
   "language": "python",
   "name": "python2"
  },
  "language_info": {
   "codemirror_mode": {
    "name": "ipython",
    "version": 2
   },
   "file_extension": ".py",
   "mimetype": "text/x-python",
   "name": "python",
   "nbconvert_exporter": "python",
   "pygments_lexer": "ipython2",
   "version": "2.7.10"
  }
 },
 "nbformat": 4,
 "nbformat_minor": 2
}
